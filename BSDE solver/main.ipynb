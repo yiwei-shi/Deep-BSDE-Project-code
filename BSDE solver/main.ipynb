{
 "cells": [
  {
   "cell_type": "code",
   "execution_count": 1,
   "metadata": {},
   "outputs": [
    {
     "name": "stderr",
     "output_type": "stream",
     "text": [
      "C:\\Anaconda3\\envs\\tensorflow\\lib\\site-packages\\tensorboard\\compat\\tensorflow_stub\\dtypes.py:541: FutureWarning: Passing (type, 1) or '1type' as a synonym of type is deprecated; in a future version of numpy, it will be understood as (type, (1,)) / '(1,)type'.\n",
      "  _np_qint8 = np.dtype([(\"qint8\", np.int8, 1)])\n",
      "C:\\Anaconda3\\envs\\tensorflow\\lib\\site-packages\\tensorboard\\compat\\tensorflow_stub\\dtypes.py:542: FutureWarning: Passing (type, 1) or '1type' as a synonym of type is deprecated; in a future version of numpy, it will be understood as (type, (1,)) / '(1,)type'.\n",
      "  _np_quint8 = np.dtype([(\"quint8\", np.uint8, 1)])\n",
      "C:\\Anaconda3\\envs\\tensorflow\\lib\\site-packages\\tensorboard\\compat\\tensorflow_stub\\dtypes.py:543: FutureWarning: Passing (type, 1) or '1type' as a synonym of type is deprecated; in a future version of numpy, it will be understood as (type, (1,)) / '(1,)type'.\n",
      "  _np_qint16 = np.dtype([(\"qint16\", np.int16, 1)])\n",
      "C:\\Anaconda3\\envs\\tensorflow\\lib\\site-packages\\tensorboard\\compat\\tensorflow_stub\\dtypes.py:544: FutureWarning: Passing (type, 1) or '1type' as a synonym of type is deprecated; in a future version of numpy, it will be understood as (type, (1,)) / '(1,)type'.\n",
      "  _np_quint16 = np.dtype([(\"quint16\", np.uint16, 1)])\n",
      "C:\\Anaconda3\\envs\\tensorflow\\lib\\site-packages\\tensorboard\\compat\\tensorflow_stub\\dtypes.py:545: FutureWarning: Passing (type, 1) or '1type' as a synonym of type is deprecated; in a future version of numpy, it will be understood as (type, (1,)) / '(1,)type'.\n",
      "  _np_qint32 = np.dtype([(\"qint32\", np.int32, 1)])\n",
      "C:\\Anaconda3\\envs\\tensorflow\\lib\\site-packages\\tensorboard\\compat\\tensorflow_stub\\dtypes.py:550: FutureWarning: Passing (type, 1) or '1type' as a synonym of type is deprecated; in a future version of numpy, it will be understood as (type, (1,)) / '(1,)type'.\n",
      "  np_resource = np.dtype([(\"resource\", np.ubyte, 1)])\n"
     ]
    }
   ],
   "source": [
    "import tensorflow.compat.v1 as tf\n",
    "import numpy as np\n",
    "\n",
    "import matplotlib.pyplot as plt\n",
    "from equation import PricingOption, AllenCahn, HJB\n",
    "from config import PricingOptionConfig, AllenCahnConfig, HJBConfig\n",
    "from solver import FeedForwardModel"
   ]
  },
  {
   "cell_type": "code",
   "execution_count": 2,
   "metadata": {},
   "outputs": [
    {
     "name": "stdout",
     "output_type": "stream",
     "text": [
      "WARNING:tensorflow:From C:\\Anaconda3\\envs\\tensorflow\\lib\\site-packages\\tensorflow_core\\python\\ops\\resource_variable_ops.py:1630: calling BaseResourceVariable.__init__ (from tensorflow.python.ops.resource_variable_ops) with constraint is deprecated and will be removed in a future version.\n",
      "Instructions for updating:\n",
      "If using Keras pass *_constraint arguments to layers.\n",
      "step:     0, loss: 1.9907e+01, y_init: 6.7324e-02, elapsed time  15\n",
      "step:   500, loss: 5.4233e-01, y_init: 1.1797e-01, elapsed time  82\n",
      "step:  1000, loss: 4.7786e-01, y_init: 1.5387e-01, elapsed time 142\n",
      "step:  1500, loss: 4.2896e-01, y_init: 2.0236e-01, elapsed time 217\n",
      "step:  2000, loss: 4.2544e-01, y_init: 2.6595e-01, elapsed time 295\n",
      "step:  2500, loss: 4.9704e-01, y_init: 3.6215e-01, elapsed time 358\n",
      "step:  3000, loss: 4.9974e-01, y_init: 4.8904e-01, elapsed time 407\n",
      "step:  3500, loss: 4.5417e-01, y_init: 6.6006e-01, elapsed time 456\n",
      "step:  4000, loss: 4.4068e-01, y_init: 8.8318e-01, elapsed time 506\n",
      "step:  4500, loss: 4.1516e-01, y_init: 1.1794e+00, elapsed time 555\n",
      "step:  5000, loss: 3.8039e-01, y_init: 1.5675e+00, elapsed time 613\n",
      "step:  5500, loss: 3.4933e-01, y_init: 2.1105e+00, elapsed time 671\n",
      "step:  6000, loss: 2.9336e-01, y_init: 2.9024e+00, elapsed time 740\n",
      "step:  6500, loss: 6.7282e-02, y_init: 4.4395e+00, elapsed time 804\n",
      "step:  7000, loss: 2.1740e-02, y_init: 4.5957e+00, elapsed time 854\n",
      "step:  7500, loss: 2.2155e-02, y_init: 4.5978e+00, elapsed time 905\n",
      "step:  8000, loss: 2.2620e-02, y_init: 4.5968e+00, elapsed time 955\n",
      "step:  8500, loss: 2.3448e-02, y_init: 4.5964e+00, elapsed time 1005\n",
      "step:  9000, loss: 2.3972e-02, y_init: 4.5974e+00, elapsed time 1056\n",
      "step:  9500, loss: 2.4800e-02, y_init: 4.5950e+00, elapsed time 1110\n",
      "step: 10000, loss: 2.6363e-02, y_init: 4.5923e+00, elapsed time 1166\n"
     ]
    }
   ],
   "source": [
    "# example 4.3\n",
    "# params\n",
    "dim, total_time, num_time_interval = 100, 1, 10\n",
    "\n",
    "#fit\n",
    "H = HJB(dim, total_time, num_time_interval)\n",
    "tf.reset_default_graph()\n",
    "with tf.Session() as sess:\n",
    "    model = FeedForwardModel(sess, H, HJBConfig())\n",
    "    model.build()\n",
    "    model.train()"
   ]
  },
  {
   "cell_type": "code",
   "execution_count": 3,
   "metadata": {},
   "outputs": [
    {
     "name": "stdout",
     "output_type": "stream",
     "text": [
      "step:     0, loss: 6.2809e-02, y_init: 3.4315e-01, elapsed time  10\n",
      "step:   500, loss: 5.6754e-03, y_init: 1.5327e-01, elapsed time  73\n",
      "step:  1000, loss: 2.4662e-04, y_init: 7.2728e-02, elapsed time 143\n",
      "step:  1500, loss: 2.9397e-05, y_init: 5.4798e-02, elapsed time 217\n",
      "step:  2000, loss: 2.7775e-05, y_init: 5.3075e-02, elapsed time 292\n",
      "step:  2500, loss: 2.8065e-05, y_init: 5.2981e-02, elapsed time 368\n",
      "step:  3000, loss: 2.8365e-05, y_init: 5.3001e-02, elapsed time 445\n",
      "step:  3500, loss: 2.8464e-05, y_init: 5.3003e-02, elapsed time 519\n",
      "step:  4000, loss: 2.9166e-05, y_init: 5.2992e-02, elapsed time 585\n"
     ]
    }
   ],
   "source": [
    "# example 4.2\n",
    "#params\n",
    "dim, total_time, num_time_interval = 100, 0.3, 10\n",
    "\n",
    "#fit\n",
    "AC= AllenCahn(dim, total_time, num_time_interval)\n",
    "tf.reset_default_graph()\n",
    "with tf.Session() as sess:\n",
    "    model = FeedForwardModel(sess, AC, AllenCahnConfig())\n",
    "    model.build()\n",
    "    model.train()"
   ]
  },
  {
   "cell_type": "code",
   "execution_count": 4,
   "metadata": {},
   "outputs": [
    {
     "name": "stdout",
     "output_type": "stream",
     "text": [
      "step:     0, loss: 3.4856e+02, y_init: 1.7565e+01, elapsed time  10\n",
      "step:   500, loss: 3.3272e+01, y_init: 1.9595e+01, elapsed time  84\n",
      "step:  1000, loss: 3.0945e+01, y_init: 2.0672e+01, elapsed time 166\n",
      "step:  1500, loss: 3.0665e+01, y_init: 2.1020e+01, elapsed time 257\n",
      "step:  2000, loss: 3.0637e+01, y_init: 2.1069e+01, elapsed time 346\n",
      "step:  2500, loss: 3.0619e+01, y_init: 2.1098e+01, elapsed time 439\n",
      "step:  3000, loss: 3.0634e+01, y_init: 2.1089e+01, elapsed time 534\n",
      "step:  3500, loss: 3.0629e+01, y_init: 2.1084e+01, elapsed time 628\n",
      "step:  4000, loss: 3.0647e+01, y_init: 2.1102e+01, elapsed time 720\n",
      "step:  4500, loss: 3.0577e+01, y_init: 2.1111e+01, elapsed time 815\n",
      "step:  5000, loss: 3.0594e+01, y_init: 2.1094e+01, elapsed time 915\n"
     ]
    }
   ],
   "source": [
    "# example 4.4\n",
    "# params\n",
    "dim, total_time, num_time_interval = 100, 0.5, 10\n",
    "\n",
    "#fit\n",
    "Option= PricingOption(dim, total_time, num_time_interval)\n",
    "tf.reset_default_graph()\n",
    "with tf.Session() as sess:\n",
    "    model = FeedForwardModel(sess, Option, PricingOptionConfig())\n",
    "    model.build()\n",
    "    model.train()"
   ]
  },
  {
   "cell_type": "code",
   "execution_count": null,
   "metadata": {},
   "outputs": [],
   "source": [
    "\n",
    "\n",
    "\n",
    "\n",
    "\n",
    "\n",
    "\n",
    "\n",
    "\n",
    "\n",
    "\n",
    "\n",
    "\n",
    "\n",
    "\n",
    "\n",
    "\n",
    "\n",
    "\n",
    "\n",
    "\n",
    "\n",
    "\n",
    "\n",
    "\n",
    "\n",
    "\n",
    "\n",
    "\n",
    "\n",
    "\n",
    "\n",
    "\n",
    "\n",
    "\n",
    "\n",
    "\n",
    "\n",
    "\n",
    "\n",
    "\n"
   ]
  }
 ],
 "metadata": {
  "kernelspec": {
   "display_name": "Python 3",
   "language": "python",
   "name": "python3"
  },
  "language_info": {
   "codemirror_mode": {
    "name": "ipython",
    "version": 3
   },
   "file_extension": ".py",
   "mimetype": "text/x-python",
   "name": "python",
   "nbconvert_exporter": "python",
   "pygments_lexer": "ipython3",
   "version": "3.7.5"
  }
 },
 "nbformat": 4,
 "nbformat_minor": 2
}
